{
 "cells": [
  {
   "cell_type": "code",
   "execution_count": 13,
   "metadata": {},
   "outputs": [
    {
     "name": "stdout",
     "output_type": "stream",
     "text": [
      "defaultdict(<class 'collections.defaultdict'>, {'A': defaultdict(None, {'B': 0.8164965809277261, 'C': 0.3333333333333333, 'F': 0.4082482904638631}), 'B': defaultdict(None, {'A': 0.8164965809277261, 'C': 0.4082482904638631, 'F': 0.5}), 'C': defaultdict(None, {'A': 0.3333333333333333, 'B': 0.4082482904638631, 'D': 0.4082482904638631, 'F': 0.4082482904638631, 'E': 0.4082482904638631}), 'F': defaultdict(None, {'A': 0.4082482904638631, 'B': 0.5, 'C': 0.4082482904638631, 'D': 0.5}), 'D': defaultdict(None, {'C': 0.4082482904638631, 'F': 0.5, 'E': 0.5}), 'E': defaultdict(None, {'C': 0.4082482904638631, 'D': 0.5})})\n"
     ]
    }
   ],
   "source": [
    "from collections import defaultdict\n",
    "import math\n",
    "def defItemIndex(DictUser):\n",
    "    DictItem=defaultdict(defaultdict)\n",
    "    for key in DictUser:\n",
    "        for i in DictUser[key]:\n",
    "            DictItem[i][key]=[key,DictUser[key][i]]\n",
    "    return DictItem\n",
    "\n",
    "def defUserSimilarity(DictItem):\n",
    "    N=dict()\n",
    "    C=defaultdict(defaultdict)\n",
    "    W=defaultdict(defaultdict)\n",
    "    for key in DictItem:\n",
    "        for x in DictItem[key]:\n",
    "            i  = DictItem[key][x]\n",
    "            if i[0] not in N.keys():\n",
    "                N[i[0]]=0\n",
    "            N[i[0]]+=1\n",
    "            for j in DictItem[key]:\n",
    "                if i[0]==j[0]:\n",
    "                    continue\n",
    "                if j[0] not in C[i[0]].keys():\n",
    "                    C[i[0]][j[0]]=0\n",
    "            \n",
    "                C[i[0]][j[0]]+=1\n",
    "    for i,related_user in C.items():\n",
    "        for j,cij in related_user.items():\n",
    "            W[i][j]=cij / math.sqrt(N[i]*N[j])\n",
    "    return W\n",
    "if __name__=='__main__':\n",
    "    Train_Data ={\n",
    "        'A':{\n",
    "            'pinguo':1,'ciangjiao':1,'xigua':1\n",
    "        },\n",
    "        'B':{'pinguo':1,'xigua':1\n",
    "        },\n",
    "        'C':{'pinguo':1,'xiangjiao':1,'boluo':1},\n",
    "        'D':{'xiangjiao':1,'putou':1},\n",
    "        'E':{'putou':1,'boluo':1},\n",
    "        'F':{'xiangjiao':1,'xigua':1}\n",
    "    }\n",
    "    W=defItemIndex(Train_Data)\n",
    "    print(defUserSimilarity(W))"
   ]
  },
  {
   "cell_type": "code",
   "execution_count": null,
   "metadata": {},
   "outputs": [],
   "source": []
  }
 ],
 "metadata": {
  "kernelspec": {
   "display_name": "Python 3",
   "language": "python",
   "name": "python3"
  },
  "language_info": {
   "codemirror_mode": {
    "name": "ipython",
    "version": 3
   },
   "file_extension": ".py",
   "mimetype": "text/x-python",
   "name": "python",
   "nbconvert_exporter": "python",
   "pygments_lexer": "ipython3",
   "version": "3.7.3"
  }
 },
 "nbformat": 4,
 "nbformat_minor": 2
}
